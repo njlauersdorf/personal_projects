{
 "cells": [
  {
   "cell_type": "markdown",
   "metadata": {},
   "source": [
    "# Tensor Field Network Elastic Tensor Predictions "
   ]
  },
  {
   "cell_type": "code",
   "execution_count": 1,
   "metadata": {},
   "outputs": [
    {
     "name": "stderr",
     "output_type": "stream",
     "text": [
      "/opt/homebrew/lib/python3.9/site-packages/tqdm/auto.py:22: TqdmWarning: IProgress not found. Please update jupyter and ipywidgets. See https://ipywidgets.readthedocs.io/en/stable/user_install.html\n",
      "  from .autonotebook import tqdm as notebook_tqdm\n"
     ]
    }
   ],
   "source": [
    "import torch\n",
    "torch.set_default_dtype(torch.float64)\n",
    "import torch_geometric as tg\n",
    "from torch_scatter import scatter_add, scatter_mean\n",
    "import e3nn\n",
    "from e3nn import rs, o3\n",
    "from e3nn.networks import GatedConvParityNetwork\n",
    "from e3nn.tensor import CartesianTensor\n",
    "from e3nn.point.message_passing import Convolution\n",
    "from e3nn.point.data_helpers import DataPeriodicNeighbors\n",
    "import pymatgen\n",
    "from pymatgen.ext.matproj import MPRester\n",
    "import numpy as np"
   ]
  },
  {
   "cell_type": "markdown",
   "metadata": {},
   "source": [
    "# I. Data Query and Preprocessing "
   ]
  },
  {
   "cell_type": "markdown",
   "metadata": {},
   "source": [
    "Here, we will query 22 elasticity tensors from the Materials Project Database. These all belong to different phases of SiO$_{2}$ (constant composition, but these phases exist at various pressures and temperatures across the Si-O phase diagram). [Note: Error below originated while running this codeblock on 12/15 when Materials Project database was shut down. Data previously queried]. "
   ]
  },
  {
   "cell_type": "code",
   "execution_count": 2,
   "metadata": {},
   "outputs": [],
   "source": [
    "## Perform Data Query for Compounds with SiO2 composition  \n",
    "with MPRester(\"jSMwykbKMFam0seE\") as m:\n",
    "    # Structure for material id\n",
    "    dataset_all = m.get_data(\"SiO2\", prop=\"elasticity\")\n",
    "dataset_contains_elasticity = [] ## all SiO2 compounds with availible elasticity tensors \n",
    "for item in dataset_all: \n",
    "    if item[\"elasticity\"]:\n",
    "        dataset_contains_elasticity.append(item)\n",
    "    else: \n",
    "        continue \n",
    "## Seperate dataset into material ID, elasticity tensor, structure         \n",
    "dataset_material_ids = [] \n",
    "dataset_elasticity_tensors = [] \n",
    "dataset_structures  = [] \n",
    "for item in dataset_contains_elasticity: \n",
    "    dataset_material_ids.append(item['material_id'])\n",
    "    dataset_elasticity_tensors.append(np.array(dataset_contains_elasticity[0]['elasticity']['elastic_tensor_original']))\n",
    "    with MPRester(\"jSMwykbKMFam0seE\") as m:\n",
    "        struct = m.get_structure_by_material_id(item['material_id']) \n",
    "        dataset_structures.append(struct)\n",
    "        "
   ]
  },
  {
   "cell_type": "markdown",
   "metadata": {},
   "source": [
    "Elasticity tensors queried from Materials Project originally in Voigt notation (engineering notation). Function below implemented to convert from Voigt to Cartesien notation (the format that's read in by the neural network).  "
   ]
  },
  {
   "cell_type": "code",
   "execution_count": 3,
   "metadata": {},
   "outputs": [],
   "source": [
    "## Helper function to convert elasticity tensors from Voigt to cartesian notation\n",
    "def voigt_to_cartesian(voigt):\n",
    "    voigt_map = {(1, 1): 1, (2, 2): 2, (3, 3): 3, (2, 3): 4, (1, 3): 5, (1, 2): 6}\n",
    "    cartesian = np.zeros((3, 3, 3, 3), dtype=np.float64)\n",
    "    for i in range(1, 3+1):\n",
    "        for j in range(1, 3+1):\n",
    "            for k in range(1, 3+1):\n",
    "                for n in range(1, 3+1):\n",
    "                    p = (i, j) if i <= j else (j, i)\n",
    "                    s = (k, n) if k <= n else (n, k)\n",
    "                    cartesian[i-1, j-1, k-1, n-1] = voigt[voigt_map[s]-1, voigt_map[p]-1]\n",
    "    return cartesian "
   ]
  },
  {
   "cell_type": "markdown",
   "metadata": {},
   "source": [
    "Peform necessary conversions from Voight to Cartesian. $Q$ matrices then obtained to convert Cartesian tensors to an irreduciable form. Irreduciable formed obtaiend by acting $Q$ on the cartesian tensor. This converts an 81 element tensor to a 21 element vector by leveraging permutation and rotational symmetry. "
   ]
  },
  {
   "cell_type": "code",
   "execution_count": 4,
   "metadata": {},
   "outputs": [
    {
     "name": "stderr",
     "output_type": "stream",
     "text": [
      "/Users/mithil/e3nn/e3nn/o3.py:463: UserWarning: torch.symeig is deprecated in favor of torch.linalg.eigh and will be removed in a future PyTorch release.\n",
      "The default behavior has changed from using the upper triangular portion of the matrix by default to using the lower triangular portion.\n",
      "L, _ = torch.symeig(A, upper=upper)\n",
      "should be replaced with\n",
      "L = torch.linalg.eigvalsh(A, UPLO='U' if upper else 'L')\n",
      "and\n",
      "L, V = torch.symeig(A, eigenvectors=True)\n",
      "should be replaced with\n",
      "L, V = torch.linalg.eigh(A, UPLO='U' if upper else 'L') (Triggered internally at  /Users/distiller/project/pytorch/aten/src/ATen/native/BatchLinearAlgebra.cpp:2524.)\n",
      "  res = xtx.symeig(eigenvectors=True)\n"
     ]
    }
   ],
   "source": [
    "## Convert elasticity tensors from Voigt to Cartesian notation \n",
    "dataset_elasticity_tensors_cart = [] \n",
    "for item in dataset_elasticity_tensors:\n",
    "    temp = voigt_to_cartesian(item)\n",
    "    dataset_elasticity_tensors_cart.append(torch.from_numpy(np.array(temp)))\n",
    "\n",
    "## Get Q matrices \n",
    "Q_matrices_elastic = [] #Representations tensors, Q   \n",
    "Rs_outs = [] # Representations of elasticity tensors \n",
    "for item in dataset_elasticity_tensors_cart:\n",
    "    cart = CartesianTensor(item, 'ijkl=jikl=klij')\n",
    "    Rs_out, Q = cart.to_irrep_transformation() \n",
    "    Q_matrices_elastic.append(Q)\n",
    "    Rs_outs.append(Rs_out)   \n",
    "    \n",
    "## Convert to Irrep\n",
    "dataset_elasticity_tensors_cart_irrep = [] \n",
    "for i in range(len(dataset_elasticity_tensors_cart)):\n",
    "    Q = Q_matrices_elastic[i]\n",
    "    tens = dataset_elasticity_tensors_cart[i]\n",
    "    irrep = torch.einsum('ix,x->i', Q, tens.reshape(-1))\n",
    "    dataset_elasticity_tensors_cart_irrep.append(torch.reshape(irrep,(1, 21) )) "
   ]
  },
  {
   "cell_type": "markdown",
   "metadata": {},
   "source": [
    "Dataset containing atomic coordinates for each SiO$_{2}$ phase, converted to a structural representation to be read in by the network."
   ]
  },
  {
   "cell_type": "code",
   "execution_count": 5,
   "metadata": {},
   "outputs": [
    {
     "name": "stderr",
     "output_type": "stream",
     "text": [
      "/Users/mithil/e3nn/e3nn/point/data_helpers.py:85: UserWarning: Creating a tensor from a list of numpy.ndarrays is extremely slow. Please consider converting the list to a single numpy.ndarray with numpy.array() before converting to a tensor. (Triggered internally at  /Users/distiller/project/pytorch/torch/csrc/utils/tensor_new.cpp:210.)\n",
      "  cart = torch.tensor(cart)\n"
     ]
    }
   ],
   "source": [
    "## Obtain input dataset (structural input)\n",
    "struct_data = []\n",
    "Rs_in = [(2, 0, 1)]\n",
    "R_cut = 6.0\n",
    "for item in dataset_structures: \n",
    "    dat = DataPeriodicNeighbors(torch.ones(len(item), 1), Rs_in, item.cart_coords, item.lattice, R_cut)\n",
    "    struct_data.append(dat) \n",
    "    "
   ]
  },
  {
   "cell_type": "markdown",
   "metadata": {},
   "source": [
    "Training set now established, containing (x_train_sio2, y_train_sio2). x_train_sio2 contains atomic represesntations for each SiO$_{2}$ phase and y_train_sio2 contains set of elasticity tensors for each phase in an irreduciable form. "
   ]
  },
  {
   "cell_type": "code",
   "execution_count": 6,
   "metadata": {},
   "outputs": [],
   "source": [
    "## Establish training set\n",
    "x_train_sio2 = struct_data\n",
    "y_train_sio2 = dataset_elasticity_tensors_cart_irrep  "
   ]
  },
  {
   "cell_type": "markdown",
   "metadata": {},
   "source": [
    "# II. Setup Network Architecture"
   ]
  },
  {
   "attachments": {
    "image.png": {
     "image/png": "[encoded data removed]"
    }
   },
   "cell_type": "markdown",
   "metadata": {},
   "source": [
    "We use the e3nn package to implement a Gated Convolution Parity Network here. Our specific architecture contains 4 layers, taking in an atomic representation as an input and outputs a representation of a fourth-rank tensor. The radial basis function was used as the radial component of the point convolution. The network architecture closely follows that in the schematic below: \n",
    "![image.png](attachment:image.png)"
   ]
  },
  {
   "cell_type": "code",
   "execution_count": 7,
   "metadata": {
    "scrolled": true
   },
   "outputs": [],
   "source": [
    "Q = Q_matrices_elastic[0]\n",
    "Rs_out = Rs_outs[0]\n",
    "N_atom_types = 1 # 2 atom types: Si and O \n",
    "Rs_in = [(N_atom_types, 0, 1)] # Input tensor representation \n",
    "Rs_out = Rs_out  # Output tensor representation \n",
    "r_max = 6.0 # Radial cutoff in Ang. \n",
    "\n",
    "model_kwargs = { #Network inputs \n",
    "    'convolution': Convolution,\n",
    "    'Rs_in': Rs_in,  # one scalar and one L=2, both with even parity\n",
    "    'Rs_out': Rs_out,\n",
    "    'mul': 4, 'lmax': 4, 'layers': 3,\n",
    "    'max_radius': r_max,  # from dataset\n",
    "    'number_of_basis': 10,\n",
    "} ##changed Lmax from 2 to 4\n",
    "\n",
    "class AggregateAtoms(torch.nn.Module): # Network object \n",
    "    def __init__(self, network):\n",
    "        super().__init__()\n",
    "        self.network = network\n",
    "        \n",
    "    def forward(self, input, *args, **kwargs):\n",
    "        N = input.shape[0]\n",
    "        if 'batch' in kwargs:\n",
    "            batch = kwargs['batch']\n",
    "        else:\n",
    "            batch = torch.zeros(N).to(torch.int64)\n",
    "        output = self.network(input, *args, **kwargs)\n",
    "        output = scatter_mean(output, batch, dim=0)\n",
    "        return output\n",
    "    \n",
    "network = GatedConvParityNetwork(**model_kwargs)\n",
    "model = AggregateAtoms(network)\n",
    "n_norm = 50  ## normalization set to 50  "
   ]
  },
  {
   "cell_type": "markdown",
   "metadata": {},
   "source": [
    "# III. Train architecture"
   ]
  },
  {
   "cell_type": "markdown",
   "metadata": {},
   "source": [
    "First we the model to overfit on a single SiO$_{2}$ elasticity tensor. We train this for 300 epochs, using the Adam optimizer, and learning rate of 0.01. [Eventually cut short to 171 epochs for convergence was achievced]"
   ]
  },
  {
   "cell_type": "code",
   "execution_count": 38,
   "metadata": {},
   "outputs": [],
   "source": [
    "def main():\n",
    "    outs = [] # output tensors \n",
    "    loss_values = []  #loss values \n",
    "    network = GatedConvParityNetwork(**model_kwargs) # define network \n",
    "    model = AggregateAtoms(network) #define model \n",
    "    torch.set_default_dtype(torch.float64)\n",
    "    x_train = x_train_sio2 # atomic representations \n",
    "    y_train = y_train_sio2 # elaticity tensors \n",
    "    optimizer = torch.optim.Adam(model.parameters(), lr=1e-2)  #Adam optimizer \n",
    "    loss_func = torch.nn.MSELoss()\n",
    "    i = 0  \n",
    "    for step in range(300): #Train for 300 epochs \n",
    "        for n in range(10):\n",
    "            losses = []\n",
    "            out = model(x_train[n].x, x_train[n].edge_index, x_train[n].edge_attr, n_norm=n_norm) \n",
    "            outs.append(out.detach())\n",
    "            oneloss = loss_func(out, y_train[n])\n",
    "            losses.append(oneloss)\n",
    "        loss = sum(losses)/len(losses)\n",
    "        loss_values.append(loss.item())\n",
    "        print(\"iter: \" +str(i)+ \" loss: \" +str(loss.item()))\n",
    "        optimizer.zero_grad()\n",
    "        loss.backward()\n",
    "        optimizer.step()\n",
    "        i += 1 \n",
    "    return model, outs, loss_values"
   ]
  },
  {
   "cell_type": "code",
   "execution_count": 35,
   "metadata": {
    "scrolled": true
   },
   "outputs": [
    {
     "name": "stdout",
     "output_type": "stream",
     "text": [
      "iter: 0 loss: 3149.3181791539882\n",
      "iter: 1 loss: 2525.864019359387\n",
      "iter: 2 loss: 1522.9270239337682\n",
      "iter: 3 loss: 14883.433250312613\n",
      "iter: 4 loss: 1224.5273666837425\n",
      "iter: 5 loss: 1925.8017224538385\n",
      "iter: 6 loss: 1927.2037977361429\n",
      "iter: 7 loss: 1931.1464050155482\n",
      "iter: 8 loss: 1834.5828586955593\n",
      "iter: 9 loss: 1651.9697021874163\n",
      "iter: 10 loss: 1379.3653127435443\n",
      "iter: 11 loss: 1008.6417985805452\n",
      "iter: 12 loss: 582.6572264081814\n",
      "iter: 13 loss: 260.0821954796297\n",
      "iter: 14 loss: 360.4973051515834\n",
      "iter: 15 loss: 653.112261236934\n",
      "iter: 16 loss: 248.49917940051776\n",
      "iter: 17 loss: 1096.974901591349\n",
      "iter: 18 loss: 218.53514600647136\n",
      "iter: 19 loss: 219.15243754783404\n",
      "iter: 20 loss: 219.5491679849922\n",
      "iter: 21 loss: 221.44210869718214\n",
      "iter: 22 loss: 223.08008943622892\n",
      "iter: 23 loss: 222.71481993088187\n",
      "iter: 24 loss: 221.66859271856455\n",
      "iter: 25 loss: 220.3690663403685\n",
      "iter: 26 loss: 218.2348546435945\n",
      "iter: 27 loss: 215.82746077587694\n",
      "iter: 28 loss: 214.37809874582265\n",
      "iter: 29 loss: 214.15493572226865\n",
      "iter: 30 loss: 214.38136074484282\n",
      "iter: 31 loss: 214.5855560815057\n",
      "iter: 32 loss: 215.01875317947477\n",
      "iter: 33 loss: 215.71814719589094\n",
      "iter: 34 loss: 216.1292478299274\n",
      "iter: 35 loss: 215.84578839454068\n",
      "iter: 36 loss: 215.15404432662177\n",
      "iter: 37 loss: 214.58447013241053\n",
      "iter: 38 loss: 214.22691114279\n",
      "iter: 39 loss: 213.85763919729735\n",
      "iter: 40 loss: 213.53825981002709\n",
      "iter: 41 loss: 213.5593305472661\n",
      "iter: 42 loss: 213.8931639762907\n",
      "iter: 43 loss: 214.18964352600256\n",
      "iter: 44 loss: 214.27162851680217\n",
      "iter: 45 loss: 214.2537318766418\n",
      "iter: 46 loss: 214.19389546833943\n",
      "iter: 47 loss: 213.99604614060948\n",
      "iter: 48 loss: 213.7002268209548\n",
      "iter: 49 loss: 213.5132366748316\n",
      "iter: 50 loss: 213.50179202707636\n",
      "iter: 51 loss: 213.54433580155148\n",
      "iter: 52 loss: 213.5793127806513\n",
      "iter: 53 loss: 213.65506351649682\n",
      "iter: 54 loss: 213.74956618788863\n",
      "iter: 55 loss: 213.76385923690634\n",
      "iter: 56 loss: 213.6938946994111\n",
      "iter: 57 loss: 213.6203392005219\n",
      "iter: 58 loss: 213.56036547403264\n",
      "iter: 59 loss: 213.4882883611718\n",
      "iter: 60 loss: 213.43974200075567\n",
      "iter: 61 loss: 213.4593776848652\n",
      "iter: 62 loss: 213.5097457481947\n",
      "iter: 63 loss: 213.5365013080094\n",
      "iter: 64 loss: 213.54711105907379\n",
      "iter: 65 loss: 213.55383186028862\n",
      "iter: 66 loss: 213.5342345911315\n",
      "iter: 67 loss: 213.49104189194082\n",
      "iter: 68 loss: 213.46149864953458\n",
      "iter: 69 loss: 213.45366524641344\n",
      "iter: 70 loss: 213.44866337029686\n",
      "iter: 71 loss: 213.45045272087745\n",
      "iter: 72 loss: 213.4681808505663\n",
      "iter: 73 loss: 213.48376038460117\n",
      "iter: 74 loss: 213.482599118008\n",
      "iter: 75 loss: 213.47499237044153\n",
      "iter: 76 loss: 213.46674276730633\n",
      "iter: 77 loss: 213.45262875433258\n",
      "iter: 78 loss: 213.4402110282037\n",
      "iter: 79 loss: 213.4401498841566\n",
      "iter: 80 loss: 213.44589596267673\n",
      "iter: 81 loss: 213.4493849004042\n",
      "iter: 82 loss: 213.45340055404108\n",
      "iter: 83 loss: 213.45674352395594\n",
      "iter: 84 loss: 213.45364176711922\n",
      "iter: 85 loss: 213.44743356800808\n",
      "iter: 86 loss: 213.44368222345233\n",
      "iter: 87 loss: 213.4406913185273\n",
      "iter: 88 loss: 213.438348174824\n",
      "iter: 89 loss: 213.44003288839187\n",
      "iter: 90 loss: 213.44356592936748\n",
      "iter: 91 loss: 213.44484699309146\n",
      "iter: 92 loss: 213.4448229440034\n",
      "iter: 93 loss: 213.4442331924403\n",
      "iter: 94 loss: 213.44174852896538\n",
      "iter: 95 loss: 213.4391276421813\n",
      "iter: 96 loss: 213.438579211593\n",
      "iter: 97 loss: 213.43882760751677\n",
      "iter: 98 loss: 213.4391258190885\n",
      "iter: 99 loss: 213.44024167733005\n",
      "iter: 100 loss: 213.44108755107376\n",
      "iter: 101 loss: 213.44064199926518\n",
      "iter: 102 loss: 213.43991736563197\n",
      "iter: 103 loss: 213.43924161677535\n",
      "iter: 104 loss: 213.4382916601328\n",
      "iter: 105 loss: 213.4379214636148\n",
      "iter: 106 loss: 213.4383952546235\n",
      "iter: 107 loss: 213.4388040970087\n",
      "iter: 108 loss: 213.43902691646252\n",
      "iter: 109 loss: 213.43921894140632\n",
      "iter: 110 loss: 213.43895621967147\n",
      "iter: 111 loss: 213.43843654363678\n",
      "iter: 112 loss: 213.4381884162075\n",
      "iter: 113 loss: 213.43805198581288\n",
      "iter: 114 loss: 213.4379843263381\n",
      "iter: 115 loss: 213.4382017057217\n",
      "iter: 116 loss: 213.4384207656761\n",
      "iter: 117 loss: 213.43842306698826\n",
      "iter: 118 loss: 213.4383770306564\n",
      "iter: 119 loss: 213.43824017643868\n",
      "iter: 120 loss: 213.43800900232029\n",
      "iter: 121 loss: 213.43792967714376\n",
      "iter: 122 loss: 213.43797913167833\n",
      "iter: 123 loss: 213.43801989651655\n",
      "iter: 124 loss: 213.4381010317359\n",
      "iter: 125 loss: 213.43815650460922\n",
      "iter: 126 loss: 213.43809947209922\n",
      "iter: 127 loss: 213.43803213109635\n",
      "iter: 128 loss: 213.43798002222948\n",
      "iter: 129 loss: 213.4379163168627\n",
      "iter: 130 loss: 213.4379169245031\n",
      "iter: 131 loss: 213.43796660505762\n",
      "iter: 132 loss: 213.43799087877827\n",
      "iter: 133 loss: 213.4380064147418\n",
      "iter: 134 loss: 213.43800069264148\n",
      "iter: 135 loss: 213.4379542529326\n",
      "iter: 136 loss: 213.43792284866308\n",
      "iter: 137 loss: 213.4379162736077\n",
      "iter: 138 loss: 213.43791259448344\n",
      "iter: 139 loss: 213.43792919349255\n",
      "iter: 140 loss: 213.4379486363289\n",
      "iter: 141 loss: 213.43794657953103\n",
      "iter: 142 loss: 213.43794038329747\n",
      "iter: 143 loss: 213.43792791527363\n",
      "iter: 144 loss: 213.43790867087014\n",
      "iter: 145 loss: 213.43790525838872\n",
      "iter: 146 loss: 213.43791135477815\n",
      "iter: 147 loss: 213.4379163083733\n",
      "iter: 148 loss: 213.437924117629\n",
      "iter: 149 loss: 213.43792416922247\n",
      "iter: 150 loss: 213.4379159423907\n",
      "iter: 151 loss: 213.43791087374277\n",
      "iter: 152 loss: 213.4379060525268\n",
      "iter: 153 loss: 213.43790365935638\n",
      "iter: 154 loss: 213.43790785409288\n",
      "iter: 155 loss: 213.4379109114749\n",
      "iter: 156 loss: 213.43791201102994\n",
      "iter: 157 loss: 213.43791215700085\n",
      "iter: 158 loss: 213.43790807172644\n",
      "iter: 159 loss: 213.43790453331175\n",
      "iter: 160 loss: 213.4379040282876\n",
      "iter: 161 loss: 213.43790400764672\n",
      "iter: 162 loss: 213.43790580145594\n",
      "iter: 163 loss: 213.43790749680423\n",
      "iter: 164 loss: 213.43790689060594\n",
      "iter: 165 loss: 213.43790612898928\n",
      "iter: 166 loss: 213.43790475884947\n",
      "iter: 167 loss: 213.437903202377\n",
      "iter: 168 loss: 213.43790338453454\n",
      "iter: 169 loss: 213.4379039639837\n",
      "iter: 170 loss: 213.43790457404825\n",
      "iter: 171 loss: 213.43790520012274\n",
      "iter: 172 loss: 213.43790462406838\n",
      "iter: 173 loss: 213.43790382583816\n",
      "iter: 174 loss: 213.43790340404533\n",
      "iter: 175 loss: 213.43790302377766\n",
      "iter: 176 loss: 213.4379033045819\n",
      "iter: 177 loss: 213.4379037259721\n",
      "iter: 178 loss: 213.43790380919086\n",
      "iter: 179 loss: 213.43790387059357\n",
      "iter: 180 loss: 213.43790354196418\n",
      "iter: 181 loss: 213.43790312344132\n",
      "iter: 182 loss: 213.4379030468211\n",
      "iter: 183 loss: 213.43790304581586\n",
      "iter: 184 loss: 213.43790323895632\n",
      "iter: 185 loss: 213.4379034263798\n",
      "iter: 186 loss: 213.43790334367637\n",
      "iter: 187 loss: 213.437903248185\n",
      "iter: 188 loss: 213.4379030943011\n",
      "iter: 189 loss: 213.43790296244538\n",
      "iter: 190 loss: 213.4379030111712\n",
      "iter: 191 loss: 213.43790306268187\n",
      "iter: 192 loss: 213.4379031360924\n",
      "iter: 193 loss: 213.43790317557878\n",
      "iter: 194 loss: 213.4379030860641\n",
      "iter: 195 loss: 213.4379030163891\n",
      "iter: 196 loss: 213.43790296659972\n",
      "iter: 197 loss: 213.43790295449003\n",
      "iter: 198 loss: 213.43790301237584\n",
      "iter: 199 loss: 213.43790303480827\n",
      "iter: 200 loss: 213.43790304012202\n",
      "iter: 201 loss: 213.43790302543806\n",
      "iter: 202 loss: 213.43790297442476\n",
      "iter: 203 loss: 213.4379029556566\n",
      "iter: 204 loss: 213.4379029523266\n",
      "iter: 205 loss: 213.4379029657483\n",
      "iter: 206 loss: 213.43790299385398\n",
      "iter: 207 loss: 213.4379029902345\n",
      "iter: 208 loss: 213.43790297804125\n",
      "iter: 209 loss: 213.4379029611104\n",
      "iter: 210 loss: 213.4379029444624\n",
      "iter: 211 loss: 213.43790294994938\n",
      "iter: 212 loss: 213.43790295578498\n",
      "iter: 213 loss: 213.43790296358574\n",
      "iter: 214 loss: 213.4379029679886\n",
      "iter: 215 loss: 213.43790295805962\n",
      "iter: 216 loss: 213.43790295066108\n",
      "iter: 217 loss: 213.43790294410968\n",
      "iter: 218 loss: 213.43790294394603\n",
      "iter: 219 loss: 213.43790295112998\n",
      "iter: 220 loss: 213.43790295301642\n",
      "iter: 221 loss: 213.4379029536596\n",
      "iter: 222 loss: 213.43790295004843\n",
      "iter: 223 loss: 213.43790294473743\n",
      "iter: 224 loss: 213.43790294380125\n",
      "iter: 225 loss: 213.43790294339323\n",
      "iter: 226 loss: 213.43790294621735\n",
      "iter: 227 loss: 213.43790294833485\n",
      "iter: 228 loss: 213.43790294720506\n",
      "iter: 229 loss: 213.43790294577576\n",
      "iter: 230 loss: 213.43790294302545\n",
      "iter: 231 loss: 213.43790294251016\n",
      "iter: 232 loss: 213.4379029435151\n",
      "iter: 233 loss: 213.43790294421814\n",
      "iter: 234 loss: 213.43790294523492\n",
      "iter: 235 loss: 213.43790294446734\n",
      "iter: 236 loss: 213.4379029434644\n",
      "iter: 237 loss: 213.43790294265168\n",
      "iter: 238 loss: 213.43790294217095\n",
      "iter: 239 loss: 213.4379029429779\n"
     ]
    },
    {
     "name": "stdout",
     "output_type": "stream",
     "text": [
      "iter: 240 loss: 213.43790294339934\n",
      "iter: 241 loss: 213.43790294357785\n",
      "iter: 242 loss: 213.43790294322466\n",
      "iter: 243 loss: 213.4379029424928\n",
      "iter: 244 loss: 213.43790294234367\n",
      "iter: 245 loss: 213.43790294226716\n",
      "iter: 246 loss: 213.43790294259585\n",
      "iter: 247 loss: 213.43790294285628\n",
      "iter: 248 loss: 213.43790294275865\n",
      "iter: 249 loss: 213.43790294260066\n",
      "iter: 250 loss: 213.43790294222725\n",
      "iter: 251 loss: 213.4379029421739\n",
      "iter: 252 loss: 213.43790294228018\n",
      "iter: 253 loss: 213.4379029424043\n",
      "iter: 254 loss: 213.4379029425167\n",
      "iter: 255 loss: 213.43790294238426\n",
      "iter: 256 loss: 213.43790294228296\n",
      "iter: 257 loss: 213.4379029421632\n",
      "iter: 258 loss: 213.437902942145\n",
      "iter: 259 loss: 213.43790294224132\n",
      "iter: 260 loss: 213.437902942282\n",
      "iter: 261 loss: 213.43790294231272\n",
      "iter: 262 loss: 213.4379029422273\n",
      "iter: 263 loss: 213.43790294215782\n",
      "iter: 264 loss: 213.4379029421387\n",
      "iter: 265 loss: 213.43790294214728\n",
      "iter: 266 loss: 213.43790294220318\n",
      "iter: 267 loss: 213.4379029422059\n",
      "iter: 268 loss: 213.43790294219866\n",
      "iter: 269 loss: 213.43790294215862\n",
      "iter: 270 loss: 213.43790294212505\n",
      "iter: 271 loss: 213.4379029421321\n",
      "iter: 272 loss: 213.43790294214384\n",
      "iter: 273 loss: 213.43790294216987\n",
      "iter: 274 loss: 213.43790294216194\n",
      "iter: 275 loss: 213.43790294214588\n",
      "iter: 276 loss: 213.43790294212982\n",
      "iter: 277 loss: 213.43790294212025\n",
      "iter: 278 loss: 213.43790294213136\n",
      "iter: 279 loss: 213.4379029421371\n",
      "iter: 280 loss: 213.4379029421448\n",
      "iter: 281 loss: 213.4379029421369\n",
      "iter: 282 loss: 213.43790294212604\n",
      "iter: 283 loss: 213.43790294212107\n",
      "iter: 284 loss: 213.43790294212081\n",
      "iter: 285 loss: 213.43790294212903\n",
      "iter: 286 loss: 213.4379029421301\n",
      "iter: 287 loss: 213.43790294212985\n",
      "iter: 288 loss: 213.43790294212437\n",
      "iter: 289 loss: 213.43790294212\n",
      "iter: 290 loss: 213.43790294212\n",
      "iter: 291 loss: 213.43790294212135\n",
      "iter: 292 loss: 213.4379029421253\n",
      "iter: 293 loss: 213.4379029421243\n",
      "iter: 294 loss: 213.43790294212255\n",
      "iter: 295 loss: 213.4379029421196\n",
      "iter: 296 loss: 213.4379029421188\n",
      "iter: 297 loss: 213.4379029421201\n",
      "iter: 298 loss: 213.43790294212099\n",
      "iter: 299 loss: 213.437902942122\n"
     ]
    }
   ],
   "source": [
    "if __name__ == '__main__':\n",
    "    model, outs,losses =  main()"
   ]
  },
  {
   "cell_type": "code",
   "execution_count": 12,
   "metadata": {},
   "outputs": [
    {
     "data": {
      "image/png": "[encoded data removed]",
      "text/plain": [
       "<Figure size 432x288 with 1 Axes>"
      ]
     },
     "metadata": {
      "needs_background": "light"
     },
     "output_type": "display_data"
    }
   ],
   "source": [
    "### Note: run cut off early and losses weren't saved. Instead copied loss values and saved to external text file for plotting \n",
    "#loss = np.loadtxt(\"loss.txt\")\n",
    "\n",
    "import matplotlib\n",
    "import matplotlib.pyplot as plt\n",
    "\n",
    "fig, ax = plt.subplots()\n",
    "ax.plot(losses)\n",
    "\n",
    "ax.set(xlabel='Epoch Number', ylabel='Training Loss')\n",
    "\n",
    "plt.show()"
   ]
  },
  {
   "cell_type": "markdown",
   "metadata": {},
   "source": [
    "Model trained for 171 epochs and final training loss of ~3.928 obtained for single phase SiO$_{2}$.  Illustrating that onset to convergence after 50 epochs.   "
   ]
  },
  {
   "cell_type": "markdown",
   "metadata": {},
   "source": [
    "Now we test this model on the entre SiO$_{2}$ elasticty tensor dataset, utilizing the same hyperparamaters as in the training session above. Now trained for 50 epochs. "
   ]
  },
  {
   "cell_type": "code",
   "execution_count": 13,
   "metadata": {},
   "outputs": [],
   "source": [
    "## Establish testing set\n",
    "x_test_sio2 = struct_data\n",
    "y_test_sio2 = dataset_elasticity_tensors_cart_irrep"
   ]
  },
  {
   "cell_type": "code",
   "execution_count": 14,
   "metadata": {},
   "outputs": [],
   "source": [
    "def main():\n",
    "    outs = [] # output tensors \n",
    "    loss_values = []  #loss values \n",
    "    network = GatedConvParityNetwork(**model_kwargs) # define network \n",
    "    model = AggregateAtoms(network) #define model \n",
    "    torch.set_default_dtype(torch.float64)\n",
    "    x_test = x_test_sio2 # atomic representations \n",
    "    y_test = y_test_sio2 # elaticity tensors \n",
    "    optimizer = torch.optim.Adam(model.parameters(), lr=1e-2)  #Adam optimizer \n",
    "    loss_func = torch.nn.MSELoss()\n",
    "    i = 0  \n",
    "    for step in range(50): #test for 50 epochs \n",
    "        for n in range(5):\n",
    "            losses = []\n",
    "            out = model(x_test[n+17].x, x_test[n+17].edge_index, x_test[n+17].edge_attr, n_norm=n_norm) \n",
    "            outs.append(out.detach())\n",
    "            oneloss = loss_func(out, y_test[n+5])\n",
    "            losses.append(oneloss)\n",
    "        loss = sum(losses)/len(losses)\n",
    "        loss_values.append(loss.item())\n",
    "        print(\"iter: \" +str(i)+ \" loss: \" +str(loss.item()))\n",
    "        optimizer.zero_grad()\n",
    "        loss.backward()\n",
    "        optimizer.step()\n",
    "        i += 1 \n",
    "    return outs, loss_values"
   ]
  },
  {
   "cell_type": "code",
   "execution_count": 33,
   "metadata": {},
   "outputs": [
    {
     "name": "stdout",
     "output_type": "stream",
     "text": [
      " loss: 2537.076520291755\n"
     ]
    }
   ],
   "source": [
    "output = [] # output tensors \n",
    "loss_values = []  #loss values \n",
    "network = GatedConvParityNetwork(**model_kwargs) # define network \n",
    "model = AggregateAtoms(network) #define model \n",
    "torch.set_default_dtype(torch.float64)\n",
    "x_test = x_test_sio2 # atomic representations \n",
    "y_test = y_test_sio2 # elaticity tensors \n",
    "loss_func = torch.nn.MSELoss()\n",
    "testmodel = model(x_test[21].x, x_test[21].edge_index, x_test[21].edge_attr, n_norm=n_norm)\n",
    "outs.append(testmodel.detach())\n",
    "loss = loss_func(testmodel, y_test[21])\n",
    "print(\" loss: \" +str(loss.item()))"
   ]
  },
  {
   "cell_type": "code",
   "execution_count": null,
   "metadata": {},
   "outputs": [],
   "source": []
  }
 ],
 "metadata": {
  "kernelspec": {
   "display_name": "Python 3 (ipykernel)",
   "language": "python",
   "name": "python3"
  },
  "language_info": {
   "codemirror_mode": {
    "name": "ipython",
    "version": 3
   },
   "file_extension": ".py",
   "mimetype": "text/x-python",
   "name": "python",
   "nbconvert_exporter": "python",
   "pygments_lexer": "ipython3",
   "version": "3.9.6"
  }
 },
 "nbformat": 4,
 "nbformat_minor": 2
}
